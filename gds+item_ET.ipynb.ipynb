{
 "cells": [
  {
   "cell_type": "code",
   "execution_count": 1,
   "id": "30c6039b",
   "metadata": {},
   "outputs": [],
   "source": [
    "import numpy as np\n",
    "import pandas as pd\n",
    "from sklearn.ensemble import ExtraTreesClassifier\n",
    "from sklearn.model_selection import train_test_split\n",
    "from sklearn.metrics import accuracy_score\n",
    "from hyperopt import fmin, tpe, hp, STATUS_OK, Trials\n",
    "from sklearn.metrics import f1_score\n",
    "from sklearn.model_selection import StratifiedKFold\n",
    "from sklearn.metrics import accuracy_score, recall_score, precision_score, f1_score, confusion_matrix"
   ]
  },
  {
   "cell_type": "code",
   "execution_count": 2,
   "id": "945ecf85",
   "metadata": {},
   "outputs": [],
   "source": [
    "df_final = pd.read_csv('/item+cash_1931_label.csv')\n",
    "df_f_x = df_final.drop('label', axis = 1)\n",
    "df_f_y = df_final['label']\n",
    "\n",
    "x_f_train, x_f_test, y_f_train, y_f_test = train_test_split(df_f_x, df_f_y, test_size = 0.3, stratify = df_f_y, random_state = 1)"
   ]
  },
  {
   "cell_type": "code",
   "execution_count": 3,
   "id": "d84f18e6",
   "metadata": {},
   "outputs": [],
   "source": [
    "df_res = pd.read_csv('/item+cash_1931_resampled.csv')\n",
    "df_res_x = df_res.drop('y', axis = 1)\n",
    "df_res_y = df_res['y']\n",
    "\n",
    "x_df_train, x_df_test, y_df_train, y_df_test = train_test_split(df_res_x, df_res_y, test_size = 0.3, stratify = df_res_y,\n",
    "                                                                random_state = 1)"
   ]
  },
  {
   "cell_type": "code",
   "execution_count": 4,
   "id": "892dcd42",
   "metadata": {},
   "outputs": [],
   "source": [
    "def ET_final_pred(x_train, y_train, x_test, params, threshold):\n",
    "    ET_final = ExtraTreesClassifier(**params)\n",
    "    ET_final.fit(x_train, y_train)\n",
    "    y_pred_test_prob = ET_final.predict_proba(x_test)[:,1]\n",
    "    y_pred_test = (y_pred_test_prob >= threshold).astype(int)\n",
    "    \n",
    "    return y_pred_test\n",
    "\n",
    "def evaluation(y_test, y_pred):\n",
    "    f1 = f1_score(y_test, y_pred)\n",
    "    print('F1-score of ET_1: ', round(f1,4))\n",
    "    print('Accuracy of ET_1 using TPE: ', round(accuracy_score(y_test, y_pred), 4))\n",
    "    print('Recall of ET_1 using TPE: ', round(recall_score(y_test, y_pred), 4))\n",
    "    print('Precision of ET_1 using TPE: ', round(precision_score(y_test, y_pred), 4))\n",
    "    print('Confusion matrix of ET_1 using TPE: \\n',confusion_matrix(y_test, y_pred))"
   ]
  },
  {
   "cell_type": "code",
   "execution_count": 7,
   "id": "44bad67f",
   "metadata": {},
   "outputs": [],
   "source": [
    "param_space = {\n",
    "    'max_depth':hp.quniform('max_depth', 10,1000,50),\n",
    "    'max_leaf_nodes': hp.quniform('max_leaf_nodes', 2, 100, 5),\n",
    "    'n_estimators': hp.quniform('n_estimators', 1000, 2000, 50),\n",
    "    'min_samples_leaf':hp.quniform('min_samples_leaf',2,10,1),\n",
    "    'min_samples_split':hp.quniform('min_samples_split',2,10,1)\n",
    "    \n",
    "}\n",
    "\n",
    "\n",
    "# k-fold cv\n",
    "k_fold = 5\n",
    "kf = StratifiedKFold(n_splits=k_fold, shuffle=True, random_state=100)\n",
    "\n",
    "def ET_f(params):\n",
    "    f1_scores_cv = []\n",
    "    \n",
    "    for train_idx, val_idx in kf.split(x_df_train, y_df_train):\n",
    "        x_train, x_valid = x_df_train.iloc[train_idx], x_df_train.iloc[val_idx]\n",
    "        y_train, y_valid = y_df_train.iloc[train_idx], y_df_train.iloc[val_idx]\n",
    "        \n",
    "        ET_1 = ExtraTreesClassifier(\n",
    "            max_depth = int(params['max_depth']),\n",
    "            max_leaf_nodes = int(params['max_leaf_nodes']),\n",
    "            n_estimators = int(params['n_estimators']),\n",
    "            min_samples_leaf = int(params['min_samples_leaf']),\n",
    "            min_samples_split = int(params['min_samples_split']),\n",
    "            random_state = 100,\n",
    "            n_jobs = -1\n",
    "        )\n",
    "        \n",
    "        # Training\n",
    "        ET_1.fit(x_train, y_train)\n",
    "        y_pred_1 = ET_1.predict(x_valid)\n",
    "        f1_cv = f1_score(y_valid, y_pred_1)\n",
    "        f1_scores_cv.append(f1_cv)\n",
    "    f1_mean = np.mean(f1_scores_cv)\n",
    "    \n",
    "    return{'loss':-f1_mean, 'status':STATUS_OK}\n",
    "\n",
    "\n",
    "trials = Trials()"
   ]
  },
  {
   "cell_type": "code",
   "execution_count": 8,
   "id": "f9c1b28a",
   "metadata": {},
   "outputs": [
    {
     "name": "stdout",
     "output_type": "stream",
     "text": [
      "100%|████████████████████████████████████████████| 10/10 [2:10:47<00:00, 784.77s/trial, best loss: -0.7586652630703319]\n"
     ]
    }
   ],
   "source": [
    "param_1_tpe = fmin(fn = ET_f, space = param_space,\n",
    "                   algo = tpe.suggest,\n",
    "                   max_evals = 10,\n",
    "                   trials = trials)"
   ]
  },
  {
   "cell_type": "code",
   "execution_count": 10,
   "id": "abc05919",
   "metadata": {},
   "outputs": [
    {
     "name": "stdout",
     "output_type": "stream",
     "text": [
      "F1-score of ET_1 using TPE:  0.7573\n",
      "Accuracy of ET_1 using TPE:  0.7461\n",
      "Recall of ET_1 using TPE:  0.793\n",
      "Precision of ET_1 using TPE:  0.7246\n",
      "Confusion matrix of ET_1 using TPE: \n",
      " [[26169 11255]\n",
      " [ 7729 29616]]\n"
     ]
    }
   ],
   "source": [
    "param_1 = {'max_depth': 700, 'min_samples_leaf': 2, 'min_samples_split': 4, 'n_estimators': 1100}\n",
    "y_pred_val_1 = ET_final_pred(x_df_train, y_df_train, x_df_test, param_1, 0.5)\n",
    "evaluation(y_df_test, y_pred_val_1)"
   ]
  },
  {
   "cell_type": "code",
   "execution_count": 17,
   "id": "7e99553b",
   "metadata": {},
   "outputs": [
    {
     "name": "stdout",
     "output_type": "stream",
     "text": [
      "F1-score of ET_1 using TPE:  0.5549\n",
      "Accuracy of ET_1 using TPE:  0.9029\n",
      "Recall of ET_1 using TPE:  0.437\n",
      "Precision of ET_1 using TPE:  0.76\n",
      "Confusion matrix of ET_1 using TPE: \n",
      " [[52368  1189]\n",
      " [ 4850  3765]]\n"
     ]
    }
   ],
   "source": [
    "param_1 = {'max_depth': 700, 'min_samples_leaf': 2, 'min_samples_split': 4, 'n_estimators': 1100}\n",
    "y_pred_f_1 = ET_final_pred(x_f_train, y_f_train, x_f_test, param_1, 0.5)\n",
    "evaluation(y_f_test, y_pred_f_1)"
   ]
  }
 ],
 "metadata": {
  "kernelspec": {
   "display_name": "virtual_mink_test",
   "language": "python",
   "name": "virtual_mink"
  },
  "language_info": {
   "codemirror_mode": {
    "name": "ipython",
    "version": 3
   },
   "file_extension": ".py",
   "mimetype": "text/x-python",
   "name": "python",
   "nbconvert_exporter": "python",
   "pygments_lexer": "ipython3",
   "version": "3.7.16"
  }
 },
 "nbformat": 4,
 "nbformat_minor": 5
}
